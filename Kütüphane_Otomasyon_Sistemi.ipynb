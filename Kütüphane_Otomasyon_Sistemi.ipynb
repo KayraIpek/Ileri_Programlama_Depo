{
  "nbformat": 4,
  "nbformat_minor": 0,
  "metadata": {
    "colab": {
      "provenance": [],
      "authorship_tag": "ABX9TyMgiFP4df/xzYz8e/fuzypO",
      "include_colab_link": true
    },
    "kernelspec": {
      "name": "python3",
      "display_name": "Python 3"
    },
    "language_info": {
      "name": "python"
    }
  },
  "cells": [
    {
      "cell_type": "markdown",
      "metadata": {
        "id": "view-in-github",
        "colab_type": "text"
      },
      "source": [
        "<a href=\"https://colab.research.google.com/github/KayraIpek/Kitapl-k-Uygulamas-/blob/main/K%C3%BCt%C3%BCphane_Otomasyon_Sistemi.ipynb\" target=\"_parent\"><img src=\"https://colab.research.google.com/assets/colab-badge.svg\" alt=\"Open In Colab\"/></a>"
      ]
    },
    {
      "cell_type": "code",
      "source": [
        "\n",
        "print(\"Kütüphanemize hoş geldiniz. Otomasyon sistemimizi kullanmaya başlamadan önce giriş yapınız.\")\n",
        "\n",
        "kullanicilar=[\"Kayra\", \"Orçun\", \"Ali\", \"Y/N\"]\n",
        "\n",
        "while True:\n",
        "    kullaniciadi=input(\"Lütfen kullanıcı adınızı giriniz.\")\n",
        "    if kullaniciadi in kullanicilar:\n",
        "        print(\"Bu kullanıcı adı zaten kullanılmaktadır. Lütfen başka bir kullanıcı adı seçiniz.\")\n",
        "    else:\n",
        "        break\n",
        "\n",
        "print(\"Lütfen şifrenizi giriniz.\")\n",
        "import getpass\n",
        "sifre=getpass.getpass(\"Şifrenizi giriniz:\")\n",
        "\n",
        "print(\"Hoş geldiniz sayın \"+kullaniciadi+\".\\nLütfen yapmak istediğiniz işlemi seçiniz.\")\n",
        "\n",
        "print(\"<>\"*50)\n",
        "\n",
        "def eser_listesi():\n",
        "  try:\n",
        "     print(\"\\n❀ Kayıtlı Eserler ❀\")\n",
        "     print(open(\"kitaplik.txt\", \"r\", encoding=\"utf-8\").read())\n",
        "  except FileNotFoundError:\n",
        "    print(\"Henüz kayıtlı eser yok.\")\n",
        "\n",
        "while True:\n",
        "  print(\"1. Yeni eser ekle\")\n",
        "  print(\"2. Eser ara\")\n",
        "  print(\"3. Listele\")\n",
        "  print(\"4. Çıkış\")\n",
        "\n",
        "  secim=input(\"Seçiminiz: \")\n",
        "\n",
        "  if secim==\"1\":\n",
        "   eser = input(\"Eser adı: \")\n",
        "   yazar = input(\"Yazar: \")\n",
        "   yayin=input(\"Yayınevi: \")\n",
        "   tarih=input(\"Yayın tarihi: \")\n",
        "   tur= input(\"Tür: \")\n",
        "   with open(\"kitaplik.txt\", \"a\", encoding=\"utf-8\") as f:\n",
        "    f.write(f\"{eser} - {yazar} - {yayin} - {tarih} - {tur}\\n\")\n",
        "    print(\"Yeni eser başarıyla eklendi.\")\n",
        "\n",
        "    print(\"_\"*50)\n",
        "\n",
        "  elif secim == \"2\":\n",
        "        kelime = input(\"Aramak istediğiniz eser: \")\n",
        "        bulundu=False\n",
        "\n",
        "        try:\n",
        "            with open(\"kitaplik.txt\", \"r\", encoding=\"utf-8\") as dosya:\n",
        "                for satir in dosya:\n",
        "                    if kelime in satir:\n",
        "                        print(satir, end=\"\")\n",
        "                        bulundu=True\n",
        "                if not bulundu:\n",
        "                    print(\"Aradığınız eser bulunamadı.\")\n",
        "\n",
        "        except FileNotFoundError:\n",
        "            print(\"Henüz eser eklenmemiş.\")\n",
        "  elif secim == \"3\":\n",
        "        eser_listesi()\n",
        "\n",
        "        print(\"_\"*50)\n",
        "\n",
        "  elif secim == \"4\":\n",
        "    print(\"Çıkış yapılıyor...\")\n",
        "    break\n",
        "\n",
        "  else:\n",
        "   print(\"Geçersiz karakter tuşladınız. Lütfen tekrar geçerli bir karakter tuşlayınız.\")\n"
      ],
      "metadata": {
        "id": "Ilfgh6I5vaKz"
      },
      "execution_count": null,
      "outputs": []
    }
  ]
}